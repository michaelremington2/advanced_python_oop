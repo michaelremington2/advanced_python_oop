{
 "cells": [
  {
   "cell_type": "code",
   "execution_count": 1,
   "metadata": {},
   "outputs": [
    {
     "name": "stdout",
     "output_type": "stream",
     "text": [
      "5\n",
      "10\n"
     ]
    }
   ],
   "source": [
    "# Objects\n",
    "number = 5\n",
    "print(number)\n",
    "number = number*2\n",
    "print(number)"
   ]
  },
  {
   "cell_type": "code",
   "execution_count": 4,
   "metadata": {},
   "outputs": [
    {
     "name": "stdout",
     "output_type": "stream",
     "text": [
      "Thanks for coming to my workshop!\n",
      "THANKS FOR COMING TO MY WORKSHOP!\n"
     ]
    }
   ],
   "source": [
    "# Objects\n",
    "thanks = \"Thanks for coming to my workshop!\"\n",
    "print(thanks)\n",
    "# Built in python functions\n",
    "print(thanks.upper())"
   ]
  },
  {
   "cell_type": "code",
   "execution_count": 15,
   "metadata": {},
   "outputs": [
    {
     "name": "stdout",
     "output_type": "stream",
     "text": [
      "Thanks to the 11 of you for coming!\n",
      "Thanks again to the 11 of you for coming!\n"
     ]
    }
   ],
   "source": [
    "# Putting them together\n",
    "workshop_attendence = 11\n",
    "thanks = \"Thanks to the {} of you for coming!\".format(workshop_attendence)\n",
    "print(thanks)\n",
    "thanks_again = f\"Thanks again to the {workshop_attendence} of you for coming!\"\n",
    "print(thanks_again)"
   ]
  },
  {
   "cell_type": "code",
   "execution_count": 14,
   "metadata": {},
   "outputs": [
    {
     "name": "stdout",
     "output_type": "stream",
     "text": [
      "<class 'tuple'>\n",
      "(5, 10)\n",
      "x: 5, y: 10\n"
     ]
    }
   ],
   "source": [
    "# tuples \n",
    "x = 5\n",
    "y = 10\n",
    "coord = (x,y)\n",
    "print(type(coord))\n",
    "print(coord)\n",
    "print(\"x: {}, y: {}\".format(coord[0], coord[1]))"
   ]
  },
  {
   "cell_type": "code",
   "execution_count": 23,
   "metadata": {},
   "outputs": [
    {
     "name": "stdout",
     "output_type": "stream",
     "text": [
      "<class 'list'>\n",
      "thing: 1, type <class 'int'>\n",
      "thing: cheese, type <class 'str'>\n",
      "thing: False, type <class 'bool'>\n"
     ]
    }
   ],
   "source": [
    "# lists and loops\n",
    "my_list = [1,\"cheese\",False]\n",
    "print(type(my_list))\n",
    "for i in my_list:\n",
    "    print(f\"thing: {i}, type {type(i)}\")"
   ]
  },
  {
   "cell_type": "code",
   "execution_count": 24,
   "metadata": {},
   "outputs": [
    {
     "name": "stdout",
     "output_type": "stream",
     "text": [
      "False\n",
      "True\n",
      "I want 1 string cheeses\n",
      "yay I love <class 'str'> cheese\n",
      "Do I have any string cheese? False\n"
     ]
    }
   ],
   "source": [
    "# logic opperaters and ifelse statements\n",
    "print(type(my_list[0])==str)\n",
    "print(type(my_list[0])==int)\n",
    "\n",
    "for i in my_list:\n",
    "    if type(i)==str:\n",
    "        print(f\"yay I love {type(i)} {i}\")\n",
    "    elif type(i)==int:\n",
    "        print(f\"I want {i} string cheeses\")\n",
    "    else:\n",
    "        print(f\"Do I have any string cheese? {i}\")"
   ]
  },
  {
   "cell_type": "code",
   "execution_count": 1,
   "metadata": {},
   "outputs": [
    {
     "name": "stdout",
     "output_type": "stream",
     "text": [
      "Help on function Exponentiation in module __main__:\n",
      "\n",
      "Exponentiation(number, exponent)\n",
      "    In the function a^b, the number argument is a, the exponent is b.\n",
      "\n"
     ]
    }
   ],
   "source": [
    "# functions \n",
    "def Exponentiation(number,exponent):\n",
    "    ''' In the function a^b, the number argument is a, the exponent is b.'''\n",
    "    return number**exponent\n",
    "\n",
    "help(Exponentiation)"
   ]
  },
  {
   "cell_type": "code",
   "execution_count": 2,
   "metadata": {},
   "outputs": [
    {
     "name": "stdout",
     "output_type": "stream",
     "text": [
      "[1, 4, 9, 16]\n"
     ]
    }
   ],
   "source": [
    "# Building lists\n",
    "data = [1,2,3,4]\n",
    "squared_list = []\n",
    "for number in data:\n",
    "    square = Exponentiation(number, 2)\n",
    "    squared_list.append(square)\n",
    "    \n",
    "    \n",
    "print(squared_list)\n"
   ]
  },
  {
   "cell_type": "code",
   "execution_count": 10,
   "metadata": {},
   "outputs": [
    {
     "name": "stdout",
     "output_type": "stream",
     "text": [
      "{'numbers': [1, 2, 3, 3.25, 3], 'words': ['word', 'cat'], 'bools': [False, True], 'other': [[]]}\n"
     ]
    }
   ],
   "source": [
    "# Dictionaries\n",
    "a = {}\n",
    "type(a)\n",
    "clean_dictionary = {\"numbers\": [],\n",
    "     \"words\": [],\n",
    "     \"bools\": [],\n",
    "     \"other\": []\n",
    "    }\n",
    "\n",
    "messy_list = [1, 2, 3, False, \"word\", 3.25, \"cat\", 3, True, []]\n",
    "\n",
    "for i in messy_list:\n",
    "    if type(i)==str:\n",
    "        clean_dictionary['words'].append(i)\n",
    "    elif type(i) in [int,float]:\n",
    "        clean_dictionary['numbers'].append(i)\n",
    "    elif type(i)==bool:\n",
    "        clean_dictionary['bools'].append(i)\n",
    "    else:\n",
    "        clean_dictionary['other'].append(i)\n",
    "        \n",
    "print(clean_dictionary)\n"
   ]
  },
  {
   "cell_type": "code",
   "execution_count": 7,
   "metadata": {},
   "outputs": [
    {
     "name": "stdout",
     "output_type": "stream",
     "text": [
      "______keys______\n",
      "dict_keys(['numbers', 'words', 'bools', 'other'])\n",
      "_____values_____\n",
      "dict_values([[1, 2, 3, 3.25, 3], ['word', 'cat'], [False, True], [[]]])\n"
     ]
    }
   ],
   "source": [
    "print(\"______keys______\")\n",
    "print(clean_dictionary.keys())\n",
    "print(\"_____values_____\")\n",
    "print(clean_dictionary.values())"
   ]
  },
  {
   "cell_type": "code",
   "execution_count": 11,
   "metadata": {},
   "outputs": [],
   "source": [
    "# Looping through dictionary\n",
    "def print_dictionary_values(dictionary, print_individual_values=False):\n",
    "    for key, value in dictionary.items():\n",
    "        print(f\"key {key}, Number of items {len(value)}\")\n",
    "        if print_individual_values:\n",
    "            for i in value:\n",
    "                print(i)"
   ]
  },
  {
   "cell_type": "code",
   "execution_count": 13,
   "metadata": {},
   "outputs": [
    {
     "name": "stdout",
     "output_type": "stream",
     "text": [
      "key numbers, Number of items 5\n",
      "1\n",
      "2\n",
      "3\n",
      "3.25\n",
      "3\n",
      "key words, Number of items 2\n",
      "word\n",
      "cat\n",
      "key bools, Number of items 2\n",
      "False\n",
      "True\n",
      "key other, Number of items 1\n",
      "[]\n"
     ]
    }
   ],
   "source": [
    "print_dictionary_values(dictionary = clean_dictionary)\n",
    "#print_dictionary_values(dictionary = clean_dictionary, print_individual_values=True)"
   ]
  },
  {
   "cell_type": "code",
   "execution_count": null,
   "metadata": {},
   "outputs": [],
   "source": []
  }
 ],
 "metadata": {
  "kernelspec": {
   "display_name": "Python 3",
   "language": "python",
   "name": "python3"
  },
  "language_info": {
   "codemirror_mode": {
    "name": "ipython",
    "version": 3
   },
   "file_extension": ".py",
   "mimetype": "text/x-python",
   "name": "python",
   "nbconvert_exporter": "python",
   "pygments_lexer": "ipython3",
   "version": "3.7.6"
  }
 },
 "nbformat": 4,
 "nbformat_minor": 4
}
